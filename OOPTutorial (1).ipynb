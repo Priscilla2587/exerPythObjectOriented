{
 "cells": [
  {
   "cell_type": "code",
   "execution_count": null,
   "id": "179847ad-c2f2-47e7-a969-8106b4a2c50e",
   "metadata": {},
   "outputs": [],
   "source": []
  },
  {
   "cell_type": "code",
   "execution_count": 26,
   "id": "390aacfe-be98-4b53-bd80-47fe767886cd",
   "metadata": {},
   "outputs": [
    {
     "ename": "IndentationError",
     "evalue": "unindent does not match any outer indentation level (<string>, line 13)",
     "output_type": "error",
     "traceback": [
      "\u001b[1;36m  File \u001b[1;32m<string>:13\u001b[1;36m\u001b[0m\n\u001b[1;33m    Employee.num_of_emps += 1\u001b[0m\n\u001b[1;37m                             ^\u001b[0m\n\u001b[1;31mIndentationError\u001b[0m\u001b[1;31m:\u001b[0m unindent does not match any outer indentation level\n"
     ]
    }
   ],
   "source": [
    "#Video 2\n",
    "class Employee: \n",
    "    \n",
    "    num_of_emps = 0\n",
    "    raise_amount = 1.04\n",
    "    \n",
    "    def __init__(self, first, last, pay):\n",
    "       self.first = first\n",
    "       self.last = last\n",
    "       self.pay = pay\n",
    "       self.email = first + '.'+ last + '@company.com'\n",
    "\n",
    "  Employee.num_of_emps += 1\n",
    "\n",
    "    def fullname(self):\n",
    "       return '{} {}'.format(self.first, self.last) \n",
    "\n",
    "    def apply_raise (self):\n",
    "       self.pay = int(self.pay * self.raise_amount)\n",
    "\n",
    "emp_1 = Employee('Corey', 'Schafer', 50000)\n",
    "emp_2 = Employee('Test', 'User', 60000)\n",
    "\n",
    "print(Employee.num_of_emps)\n",
    "\n",
    "\n",
    "\n",
    "\n",
    "\n",
    "\n",
    "\n",
    "\n"
   ]
  },
  {
   "cell_type": "code",
   "execution_count": null,
   "id": "e7341f5b-bbc7-49d9-8ba4-927a3e132444",
   "metadata": {},
   "outputs": [],
   "source": []
  },
  {
   "cell_type": "code",
   "execution_count": null,
   "id": "f85a8f08-ef42-43f0-8204-cb993822ff5e",
   "metadata": {},
   "outputs": [],
   "source": []
  }
 ],
 "metadata": {
  "kernelspec": {
   "display_name": "Python 3 (ipykernel)",
   "language": "python",
   "name": "python3"
  },
  "language_info": {
   "codemirror_mode": {
    "name": "ipython",
    "version": 3
   },
   "file_extension": ".py",
   "mimetype": "text/x-python",
   "name": "python",
   "nbconvert_exporter": "python",
   "pygments_lexer": "ipython3",
   "version": "3.12.4"
  }
 },
 "nbformat": 4,
 "nbformat_minor": 5
}
